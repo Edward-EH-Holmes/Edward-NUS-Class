{
 "cells": [
  {
   "cell_type": "markdown",
   "id": "25c26fca",
   "metadata": {},
   "source": [
    "# Tutorial 8: Monte-Carlo EM\n",
    "Lecturer: Harold Soh\n",
    "\n",
    "TA: Eugene Lim (AY23/24)\n",
    "\n",
    "This code accompanies Tutorial 8 on the Monte-Carlo Expectation Maximization (MCEM) method. In this tutorial, we will apply Monte-Carlo methods to models where the posterior $p(z|x, \\theta^{old})$ is intractable. At a high-level, we will apply Monte-Carlo methods to estimate the expectation of the log joint under the posterior, $\\mathbb{E}_{p(z|x, \\theta^{old})}[\\log p(x,z)]$. \n",
    "\n",
    "This code was written by the teaching team with assistance from ChatGPT. "
   ]
  },
  {
   "cell_type": "code",
   "execution_count": 1,
   "id": "246cb584",
   "metadata": {},
   "outputs": [],
   "source": [
    "import numpy as np\n",
    "import matplotlib.pyplot as plt\n",
    "from scipy.optimize import minimize\n",
    "from scipy.stats import norm\n",
    "\n",
    "from tqdm.notebook import tqdm\n"
   ]
  },
  {
   "cell_type": "markdown",
   "id": "20d07ad0",
   "metadata": {},
   "source": [
    "## The Model \n",
    "\n",
    "Our model will be similar to the PPCA model covered in a previous tutorial, except that now, we will have a *nonlinear* relationship between $z_n$ and $x_n$. Consider that we have a dataset $\\mathcal{D} = \\{ x_1, \\dots, x_N \\}$. Our assumed model is: \n",
    "$$z_n \\sim N(\\mu, s^2)$$ \n",
    "$$x_n | z_n \\sim N( f(z_n), \\sigma^2)$$ \n",
    "$$f(z_n) = \\alpha \\sin(z_n) + \\beta$$\n",
    "\n",
    "To keep things simple, $x_n$ and $z_n$ are one-dimensional and assume that $s^2$ and $\\sigma^2$ are known. The unknown parameters of our model are $\\theta = \\{\\mu, \\alpha, \\beta\\}$. We want to learn $\\theta$. \n",
    "\n",
    "Let's start by creating our dataset. The \"true\" parameters (except for $s^2$ and $\\sigma^2$) are unknown to us and later, we will compare what we learn to these parameters."
   ]
  },
  {
   "cell_type": "code",
   "execution_count": 2,
   "id": "50090f85",
   "metadata": {},
   "outputs": [],
   "source": [
    "# Parameters (these are the true parameters (unknown); you can change them)\n",
    "mu_true = 0.0\n",
    "alpha_true = 3\n",
    "beta_true = 1\n",
    "s2_true = 2\n",
    "sigma2_true = 0.1\n",
    "N = 100\n",
    "\n",
    "true_params = {'mu': mu_true, 'alpha': alpha_true, 'beta':beta_true}\n"
   ]
  },
  {
   "cell_type": "code",
   "execution_count": 3,
   "id": "612c71a0",
   "metadata": {},
   "outputs": [
    {
     "data": {
      "image/png": "[encoded data removed]",
      "text/plain": [
       "<Figure size 640x480 with 1 Axes>"
      ]
     },
     "metadata": {},
     "output_type": "display_data"
    }
   ],
   "source": [
    "np.random.seed(42)  # For reproducibility\n",
    "\n",
    "# Generate latent variables z_n\n",
    "z_n = np.random.normal(mu_true, np.sqrt(s2_true), N)\n",
    "\n",
    "# Generate observed variables x_n\n",
    "x_n = np.random.normal(alpha_true * np.sin(z_n) + beta_true, np.sqrt(sigma2_true), N)\n",
    "\n",
    "plt.scatter(z_n, x_n)\n",
    "plt.xlabel('$z_n$')\n",
    "plt.ylabel('$x_n$')\n",
    "plt.title('Generated Data')\n",
    "\n",
    "plt.savefig(\"mcem_data.pdf\", format=\"pdf\", bbox_inches=\"tight\")\n",
    "plt.show()\n"
   ]
  },
  {
   "cell_type": "code",
   "execution_count": 4,
   "id": "9874be17",
   "metadata": {},
   "outputs": [],
   "source": [
    "def compute_log_likelihood(z, x, params, s2, sigma2):\n",
    "    \"\"\"\n",
    "    Compute the average log likelihood of generated data under the model with given parameters.\n",
    "    \n",
    "    Args:\n",
    "    - z: Array of latent variables z_n.\n",
    "    - x: Array of observed data points x_n corresponding to z_n.\n",
    "    - params: Dictionary containing the model parameters {'mu': mu, 'alpha': alpha, 'beta': beta}.\n",
    "    - s2: Known variance of z_n.\n",
    "    - sigma2: Known variance of x_n given z_n.\n",
    "    \n",
    "    Returns:\n",
    "    - The total log likelihood of the data under the model.\n",
    "    \"\"\"\n",
    "    mu, alpha, beta = params['mu'], params['alpha'], params['beta']\n",
    "    \n",
    "    # Log likelihood contribution from the prior on z\n",
    "    log_likelihood_z = -0.5 * np.sum(((z - mu)**2) / s2)\n",
    "    \n",
    "    # Log likelihood contribution from the likelihood of x given z\n",
    "    log_likelihood_x_given_z = -0.5 * np.sum(((x - (alpha * np.sin(z) + beta))**2) / sigma2)\n",
    "    \n",
    "    # Normalize by the constants for the Gaussian distributions\n",
    "    normalization_z = -0.5 * len(z) * np.log(2 * np.pi * s2)\n",
    "    normalization_x_given_z = -0.5 * len(x) * np.log(2 * np.pi * sigma2)\n",
    "    \n",
    "    # Total log likelihood is the sum of the contributions\n",
    "    total_log_likelihood = log_likelihood_z + log_likelihood_x_given_z + normalization_z + normalization_x_given_z\n",
    "    \n",
    "    return total_log_likelihood\n"
   ]
  },
  {
   "cell_type": "markdown",
   "id": "16b77df7",
   "metadata": {},
   "source": [
    "Notice that the relationship between $x_n$ and $z_n$ is nonlinear (unlike in the PPCA case). This makes it difficult to learn."
   ]
  },
  {
   "cell_type": "markdown",
   "id": "d195f0d7",
   "metadata": {},
   "source": [
    "## Monte-Carlo E-M algorithm \n",
    "\n",
    "Recall that the E-M algorithm comprises two steps: the E-step and the M-step. In the E-step, we seek to compute the posterior over the latent variables given the old parameters $p(z|x, \\theta^{old})$. We then form the $Q(\\theta;  \\theta^{old})$ function that we will try to maximize:\n",
    "$$\\theta^{new} = \\arg\\max_{\\theta} Q(\\theta;  \\theta^{old})$$\n",
    "where\n",
    "$$Q(\\theta;  \\theta^{old}) =  \\mathbb{E}_{p(z|x, \\theta^{old})}[\\log p(x,z)]$$\n",
    "\n",
    "Here, the posterior is no longer a simple Gaussian sincce $f$ is nonlinear. This posterior is difficult for us to figure out, so we will approximate the $Q$ function using samples. \n",
    "\n",
    "In the tutorial, we showed that we only need to compute the following expectations:\n",
    "- **(A)**  $\\mathbb{E}_{p(z|x, \\theta^{old})}[ (x_n - f(z_n))^2 ]$\n",
    "- **(B)**  $\\mathbb{E}_{p(z|x, \\theta^{old})}[ (z_n - \\mu)^2 ]$\n",
    "\n",
    "We will estimate these expectations using:\n",
    "1. Importance Sampling\n",
    "2. Metropolis-Hastings\n",
    "3. [Metropolis-Adjusted Lanngevin Algorithm (MALA)](https://en.wikipedia.org/wiki/Metropolis-adjusted_Langevin_algorithm): This is an *optional* extra for students interested in more advanced methods. \n"
   ]
  },
  {
   "cell_type": "markdown",
   "id": "123e5411",
   "metadata": {},
   "source": [
    "### Importance Sampling\n",
    "\n",
    "Let's start off using importance sampling. We will be using the self-normalized importance sampling (SNIS) which we have covered in lecture. For example, we will approximate (A) above via:\n",
    "$$\\mathbb{E}_{p(z|x, \\theta^{old})}[ (x_n - f(z_n))^2 ] \\approx \\sum_{i=1}^M \\tilde{w}_i (x_n - f(z_n^{(i)}))^2 $$\n",
    "where $$\\tilde{w}_i = \\dfrac{\\tilde{p}(z_n^{(i)}) / \\tilde{q}(z_n^{(i)})}{ \\sum_{j=1}^M \\tilde{p}(z_n^{(j)}) / \\tilde{q}(z_n^{(j)}) }$$\n",
    "\n",
    "We will define a simple normal distributions with mean $m$ and variance $v^2$ as the proposal distribution."
   ]
  },
  {
   "cell_type": "code",
   "execution_count": 5,
   "id": "232eabec",
   "metadata": {},
   "outputs": [],
   "source": [
    "def proposal_distribution(m, v2, size):\n",
    "    \"\"\"Generate samples from a Normal distribution with mean mu_old and variance v2.\"\"\"\n",
    "    return np.random.normal(m, np.sqrt(v2), size)\n"
   ]
  },
  {
   "cell_type": "code",
   "execution_count": 6,
   "id": "47dc419e",
   "metadata": {},
   "outputs": [],
   "source": [
    "def importance_sampling(x_n, mu_old, alpha, beta, sigma2, s2, v2, proposal_dist, N_samples=1000):\n",
    "    \"\"\"\n",
    "    Perform importance sampling with a given proposal distribution.\n",
    "    \n",
    "    Args:\n",
    "    - x_n: A 1D array of observed data.\n",
    "    - mu_old: The current estimate of the mu parameter.\n",
    "    - alpha: Current estimate of the alpha parameter.\n",
    "    - beta: Current estimate of the beta parameter.\n",
    "    - sigma2: Known variance of x_n given z_n.\n",
    "    - s2: Known variance of z_n.\n",
    "    - v2: Variance parameter for the proposal distribution.\n",
    "    - proposal_dist: A function to generate samples from the proposal distribution.\n",
    "    - N_samples: Number of samples to draw from the proposal distribution.\n",
    "    \n",
    "    Returns:\n",
    "    - z_samples: A 2D array of sampled latent variables (shape: (N, N_samples)).\n",
    "    - weights: A 2D array of weights for each sampled latent variable (shape: (N, N_samples)).\n",
    "    \"\"\"\n",
    "    N = len(x_n)\n",
    "    z_samples = proposal_dist(mu_old, v2, (N, N_samples))\n",
    "    \n",
    "    # Compute unnormalized weights\n",
    "    log_weights = (-0.5 / sigma2 * (x_n[:, None] - (alpha * np.sin(z_samples) + beta))**2 -\n",
    "                   0.5 / s2 * (z_samples - mu_old)**2 + \n",
    "                   0.5 / v2 * (z_samples - mu_old)**2)\n",
    "    # Normalize the log weights to prevent underflow/overflow\n",
    "    log_weights -= np.max(log_weights, axis=1, keepdims=True)\n",
    "    weights = np.exp(log_weights)\n",
    "    weights /= np.sum(weights, axis=1, keepdims=True)\n",
    "    \n",
    "    return z_samples, weights\n"
   ]
  },
  {
   "cell_type": "markdown",
   "id": "3cb0022a",
   "metadata": {},
   "source": [
    "Once we obtain samples and weights using the importance sampling scheme, we can update the parameters. Here, we show two different ways. First, we can update the weights analytically. For A:\n",
    "$$\\max_\\theta \\sum_{i=1}^M \\tilde{w}_i (x_n - \\alpha \\sin(z_n^{(i)}) + \\beta)^2$$\n",
    "which is a simple linear function in the parameters $\\alpha$ and $\\beta$ and we can solve using the methods we already derived in the last 1/2 semester. \n",
    "\n",
    "Likewise, B is also quite simple:\n",
    "$$\\max_\\theta \\sum_{i=1}^M \\tilde{w}_i (z_n^{(i)} - \\mu)^2$$\n"
   ]
  },
  {
   "cell_type": "code",
   "execution_count": 7,
   "id": "1294bb39",
   "metadata": {},
   "outputs": [],
   "source": [
    "def update_theta_analytical(z_samples, weights, x_n):\n",
    "    \"\"\"\n",
    "    Update parameters mu, alpha, and beta analytically.\n",
    "    \n",
    "    Args:\n",
    "    - z_samples: A 2D array of shape (N, N_samples) with sampled latent variables.\n",
    "    - weights: A 2D array of shape (N, N_samples) with weights for each sample.\n",
    "    - x_n: A 1D array of shape (N,) with observed data.\n",
    "    \n",
    "    Returns:\n",
    "    - A tuple (mu_new, alpha_new, beta_new) with updated parameter values.\n",
    "    \"\"\"\n",
    "    # Update mu as the weighted mean of z_samples\n",
    "    mu_new = np.sum(weights * z_samples) / np.sum(weights)\n",
    "    \n",
    "    # Preparing the design matrix for weighted linear regression\n",
    "    N, N_samples = z_samples.shape\n",
    "    sin_z = np.sin(z_samples)  # Transform z_samples with sin for the alpha term\n",
    "    ones = np.ones((N, N_samples))  # Intercept term for beta\n",
    "    X = np.stack([sin_z, ones], axis=-1)  # Shape (N, N_samples, 2)\n",
    "    \n",
    "    # Weighted linear regression to update alpha and beta\n",
    "    # Flatten X and x_n for dot product, weights remain the same shape\n",
    "    X_flat = X.reshape(-1, 2)  # Shape (N*N_samples, 2)\n",
    "    x_n_repeated = np.repeat(x_n, N_samples)  # Repeat x_n to match the shape of X_flat\n",
    "    W_flat = weights.flatten()\n",
    "    \n",
    "    # Compute (X^T W X)^(-1) X^T W y\n",
    "    W_diag = np.diag(W_flat)  # Convert weights to a diagonal matrix\n",
    "    XTWX = X_flat.T @ W_diag @ X_flat\n",
    "    XTWy = X_flat.T @ W_diag @ x_n_repeated\n",
    "    \n",
    "    theta_new = np.linalg.inv(XTWX) @ XTWy\n",
    "    alpha_new, beta_new = theta_new\n",
    "    \n",
    "    return mu_new, alpha_new, beta_new\n"
   ]
  },
  {
   "cell_type": "markdown",
   "id": "7aecab3e",
   "metadata": {},
   "source": [
    "It turned out above that for this model, updating the parameters was quite simple. But you should think to yourself whether optimizing it in this manner is a good idea (is the Q function after approximation still a lower bound? what is the approximation error involved?) In practice for more complex models, it is sometimes worth using a gradient ascent method which we show below. "
   ]
  },
  {
   "cell_type": "code",
   "execution_count": 8,
   "id": "4f7a8492",
   "metadata": {},
   "outputs": [],
   "source": [
    "def update_theta_gradient_ascent(z_samples, weights, x_n, initial_params, learning_rate=0.01, n_iter=100):\n",
    "    mu, alpha, beta = initial_params['mu'], initial_params['alpha'], initial_params['beta']\n",
    "    \n",
    "    N, N_samples = z_samples.shape\n",
    "\n",
    "    x_n_repeated = np.repeat(x_n[:, None], N_samples, axis=1).flatten()\n",
    "    \n",
    "    for _ in range(n_iter):\n",
    "        # Flatten z_samples and weights for gradient computation\n",
    "        z_flat = z_samples.flatten()\n",
    "        weights_flat = weights.flatten()\n",
    "        \n",
    "        # Gradient Computation\n",
    "        grad_mu = np.sum(weights_flat * (z_flat - mu)) / np.sum(weights_flat)\n",
    "        grad_alpha = np.sum(weights_flat * (x_n_repeated - (alpha * np.sin(z_flat) + beta)) * np.sin(z_flat)) / np.sum(weights_flat)\n",
    "        grad_beta = np.sum(weights_flat * (x_n_repeated - (alpha * np.sin(z_flat) + beta))) / np.sum(weights_flat)\n",
    "        \n",
    "        # Update parameters using gradient ascent\n",
    "        mu += learning_rate * grad_mu\n",
    "        alpha += learning_rate * grad_alpha\n",
    "        beta += learning_rate * grad_beta\n",
    "    \n",
    "    return mu, alpha, beta\n",
    "     \n"
   ]
  },
  {
   "cell_type": "markdown",
   "id": "ba2206b4",
   "metadata": {},
   "source": [
    "#### Importance Sampling EM\n",
    "\n",
    "The following code implements the MCEM algorithm with importance sampling. The setup is quite simple: we are still performing the E and M steps, except that we will work with samples to compute the expectation (instead of an analytical posterior). \n"
   ]
  },
  {
   "cell_type": "code",
   "execution_count": 9,
   "id": "d8c6248f",
   "metadata": {},
   "outputs": [],
   "source": [
    "def mcem_snis(x_n, initial_params, sigma2, s2, v2, proposal, max_iter=100, \n",
    "              N_samples=100, tol=1e-6, learning_rate=0.01, n_gd_steps=10):\n",
    "    \"\"\"\n",
    "    Monte Carlo EM algorithm to estimate parameters of the model.\n",
    "    \n",
    "    Args:\n",
    "    - x_n: A 1D array of observed data.\n",
    "    - initial_params: Dictionary with initial estimates for parameters mu, alpha, and beta.\n",
    "    - sigma2: Known variance of x_n given z_n.\n",
    "    - s2: Known variance of z_n.\n",
    "    - v2: Variance of the proposal distribution for importance sampling.\n",
    "    - max_iter: Maximum number of iterations to run the MCEM algorithm.\n",
    "    - tol: Tolerance for the convergence criterion.\n",
    "    \n",
    "    Returns:\n",
    "    - A dictionary with the estimated parameters mu, alpha, and beta.\n",
    "    \"\"\"\n",
    "    mu, alpha, beta = initial_params['mu'], initial_params['alpha'], initial_params['beta']\n",
    "    params_history = [(mu, alpha, beta)]  # Keep track of parameter updates\n",
    "    \n",
    "\n",
    "    current_params = {\n",
    "        \"mu\": initial_params['mu'],\n",
    "        \"alpha\": initial_params['alpha'], \n",
    "        \"beta\": initial_params['beta']\n",
    "    }\n",
    "    \n",
    "    for iteration in tqdm(range(max_iter), desc='MCEM Progress'):\n",
    "        # E-Step: Perform importance sampling to approximate the expectations\n",
    "        z_samples, weights = importance_sampling(x_n, mu, alpha, beta, sigma2, s2, v2,\n",
    "                                         proposal_dist=proposal, N_samples=N_samples)\n",
    "\n",
    "\n",
    "        # M-Step: Update parameters analytically based on sampled latent variables and weights\n",
    "        # mu, alpha, beta = update_theta_analytical(z_samples, weights, x_n)\n",
    "        mu, alpha, beta = update_theta_gradient_ascent(z_samples, weights, x_n, \n",
    "                                                       current_params, \n",
    "                                                       learning_rate=learning_rate, n_iter=n_gd_steps)\n",
    "        current_params[\"mu\"] = mu\n",
    "        current_params[\"alpha\"] = alpha\n",
    "        current_params[\"beta\"] = beta\n",
    "        \n",
    "        params_history.append((mu, alpha, beta))\n",
    "\n",
    "        # Check for convergence\n",
    "        delta = np.sqrt((params_history[-1][0] - params_history[-2][0])**2 +\n",
    "                        (params_history[-1][1] - params_history[-2][1])**2 +\n",
    "                        (params_history[-1][2] - params_history[-2][2])**2)\n",
    "\n",
    "        if delta < tol:\n",
    "            print(f\"Convergence reached after {iteration + 1} iterations.\")\n",
    "            break\n",
    "\n",
    "    \n",
    "    return {'mu': mu, 'alpha': alpha, 'beta': beta}\n"
   ]
  },
  {
   "cell_type": "markdown",
   "id": "8f95a398",
   "metadata": {},
   "source": [
    "With all that, let's now run the MCEM algorithm with importance sampling. "
   ]
  },
  {
   "cell_type": "code",
   "execution_count": 10,
   "id": "4fc68d35",
   "metadata": {
    "scrolled": true
   },
   "outputs": [
    {
     "data": {
      "application/vnd.jupyter.widget-view+json": {
       "model_id": "787796a8549043d0a142271f7be86826",
       "version_major": 2,
       "version_minor": 0
      },
      "text/plain": [
       "MCEM Progress:   0%|          | 0/200 [00:00<?, ?it/s]"
      ]
     },
     "metadata": {},
     "output_type": "display_data"
    },
    {
     "name": "stdout",
     "output_type": "stream",
     "text": [
      "{'mu': -0.18214357169787307, 'alpha': 2.875015832195142, 'beta': 1.1138072419794602}\n"
     ]
    }
   ],
   "source": [
    "# Let's start the initial parameters and then learn the parameters \\theta \n",
    "\n",
    "initial_params = {'mu': 0.1, 'alpha': 0.1, 'beta': 0.1}\n",
    "\n",
    "# you can change the following parameters to see their effects\n",
    "v2 = 1\n",
    "max_iter = 200  # iterations of EM\n",
    "N_samples = 100 # number of samples for each x_n\n",
    "\n",
    "learning_rate=0.01\n",
    "n_gd_steps=10\n",
    "\n",
    "# run the MCEM algorithm\n",
    "estimated_params = mcem_snis(x_n, initial_params, sigma2_true, s2_true, v2,\n",
    "                             proposal=proposal_distribution,\n",
    "                             max_iter=max_iter, N_samples=N_samples,\n",
    "                             learning_rate=learning_rate, n_gd_steps=n_gd_steps\n",
    "                            )\n",
    "print(estimated_params)"
   ]
  },
  {
   "cell_type": "markdown",
   "id": "24236757",
   "metadata": {},
   "source": [
    "Now, let's compare the true and estimated parameters in terms of their values, and also by plotting data generated. "
   ]
  },
  {
   "cell_type": "code",
   "execution_count": 11,
   "id": "cfee8f7c",
   "metadata": {},
   "outputs": [
    {
     "name": "stdout",
     "output_type": "stream",
     "text": [
      "True params:  {'mu': 0.0, 'alpha': 3, 'beta': 1}\n",
      "Learned params:  {'mu': -0.18214357169787307, 'alpha': 2.875015832195142, 'beta': 1.1138072419794602}\n"
     ]
    }
   ],
   "source": [
    "\n",
    "print(\"True params: \", true_params)\n",
    "print(\"Learned params: \", estimated_params)"
   ]
  },
  {
   "cell_type": "code",
   "execution_count": 12,
   "id": "cea2fee1",
   "metadata": {},
   "outputs": [],
   "source": [
    "def plot_result(true_params, estimated_params, N=50, seed=42):\n",
    "    # Generate data with true parameters\n",
    "    np.random.seed(seed)\n",
    "    mu_true = true_params['mu']\n",
    "    alpha_true = true_params['alpha']\n",
    "    beta_true = true_params['beta']\n",
    "    z_n_true = np.random.normal(mu_true, np.sqrt(s2_true), N)\n",
    "    x_n_true = np.random.normal(alpha_true * np.sin(z_n_true) + beta_true, np.sqrt(sigma2_true), N)\n",
    "\n",
    "    # Simulated data using estimated parameters\n",
    "    mu_est = estimated_params['mu']\n",
    "    alpha_est = estimated_params['alpha']\n",
    "    beta_est = estimated_params['beta']\n",
    "\n",
    "    z_n_est = np.random.normal(mu_est, np.sqrt(s2_true), N)\n",
    "    x_n_est = np.random.normal(alpha_est * np.sin(z_n_est) + beta_est, np.sqrt(sigma2_true), N)\n",
    "    \n",
    "    # Plot\n",
    "    plt.figure(figsize=(10, 6))\n",
    "    plt.scatter(z_n_true, x_n_true, color='blue', alpha=0.5, label='True Parameters')\n",
    "    plt.scatter(z_n_est, x_n_est, color='green', alpha=0.5, label='Learned Parameters')\n",
    "    plt.title('Data Generated with True vs. Learned Parameters')\n",
    "    plt.xlabel('$z_n$')\n",
    "    plt.ylabel('$x_n$')\n",
    "    plt.legend()\n",
    "    plt.show()\n",
    "    \n",
    "def get_score(true_aprams, estimated_params, N=10000, seed=42):\n",
    "    mu_est = estimated_params['mu']\n",
    "    alpha_est = estimated_params['alpha']\n",
    "    beta_est = estimated_params['beta']\n",
    "    z_n_est = np.random.normal(mu_est, np.sqrt(s2_true), N)\n",
    "    x_n_est = np.random.normal(alpha_est * np.sin(z_n_est) + beta_est, np.sqrt(sigma2_true), N)\n",
    "    score = -compute_log_likelihood(z_n_est, x_n_est, true_params, s2_true, sigma2_true)/1000\n",
    "    print(\"Avg NLL of generated data(under true model): \", score)\n",
    "    "
   ]
  },
  {
   "cell_type": "code",
   "execution_count": 13,
   "id": "0e72829d",
   "metadata": {},
   "outputs": [
    {
     "data": {
      "image/png": "[encoded data removed]",
      "text/plain": [
       "<Figure size 1000x600 with 1 Axes>"
      ]
     },
     "metadata": {},
     "output_type": "display_data"
    },
    {
     "name": "stdout",
     "output_type": "stream",
     "text": [
      "Avg NLL of generated data(under true model):  21.681823369320146\n"
     ]
    }
   ],
   "source": [
    "plot_result(true_params, estimated_params, N=50)\n",
    "get_score(true_params, estimated_params)"
   ]
  },
  {
   "cell_type": "markdown",
   "id": "b6e9a2b4",
   "metadata": {},
   "source": [
    "With good algorithm parameters (sufficient samples and iterations), you should see the learned parameters to be reasonably close to the true ones (although they may not match completely. why? which parameters are more difficult to learn for this problem?). Moreover, the data generated will also look similar to the data from the true underlying model. \n",
    "\n",
    "Hopefully, you can see how useful sampling can be. We started off with a posterior that we didn't know how to evaluate and ended up able to learn the parameters for our model! "
   ]
  },
  {
   "cell_type": "markdown",
   "id": "5091eb6f",
   "metadata": {},
   "source": [
    "### Metropolis-Hastings Monte-Carlo \n",
    "\n",
    "In lectures, we covered the MCMC algorithm for generating samples and here, we will make use of the Metropolis method for approximating our expectations (A) and (B). In MCMC, we will need to define a proposal distribution and we will use a normal centered aorund the current point. \n"
   ]
  },
  {
   "cell_type": "code",
   "execution_count": 14,
   "id": "6b49e8dd",
   "metadata": {},
   "outputs": [],
   "source": [
    "def target_density(z, x, mu, alpha, beta, sigma2, s2):\n",
    "    \"\"\"\n",
    "    Compute the unnormalized posterior density p(z|x, theta).\n",
    "    \n",
    "    Args:\n",
    "    - z: The latent variable for which to compute the density.\n",
    "    - x: The observed data.\n",
    "    - mu, alpha, beta: Parameters of the model.\n",
    "    - sigma2: Variance of x given z.\n",
    "    - s2: Variance of z.\n",
    "    \n",
    "    Returns:\n",
    "    - The unnormalized posterior density.\n",
    "    \"\"\"\n",
    "    prior = np.exp(-(z - mu)**2 / (2 * s2))\n",
    "    likelihood = np.exp(-(x - (alpha * np.sin(z) + beta))**2 / (2 * sigma2))\n",
    "    return prior * likelihood\n"
   ]
  },
  {
   "cell_type": "code",
   "execution_count": 15,
   "id": "6754c510",
   "metadata": {},
   "outputs": [],
   "source": [
    "def metropolis_hastings(target_density, proposal_func, proposal_pdf, initial_z, x, n_samples, burn_in):\n",
    "    \"\"\"\n",
    "    Draw samples using the Metropolis-Hastings algorithm with a general proposal distribution.\n",
    "    \n",
    "    Args:\n",
    "    - target_density: Function to compute the target density p(z).\n",
    "    - proposal_func: Function to generate a proposal given the current state.\n",
    "    - proposal_pdf: Function to compute the probability density of the proposal.\n",
    "    - initial_z: Initial value of z to start the MCMC chain.\n",
    "    - x: observation x\n",
    "    - n_samples: Total number of samples to draw, including burn-in.\n",
    "    - burn_in: Number of initial samples to discard (burn-in period).\n",
    "    \n",
    "    Returns:\n",
    "    - samples: A 1D array of samples drawn from the target distribution after burn-in.\n",
    "    \"\"\"\n",
    "    samples = np.zeros(n_samples)\n",
    "    current_z = initial_z\n",
    "    \n",
    "    for i in range(n_samples):\n",
    "        proposal = proposal_func(current_z, x)\n",
    "        \n",
    "        # Compute acceptance probability\n",
    "        acceptance_ratio = (target_density(proposal, x) * proposal_pdf(current_z, proposal, x)) / \\\n",
    "                           (target_density(current_z, x) * proposal_pdf(proposal, current_z, x))\n",
    "        acceptance_prob = min(1, acceptance_ratio)\n",
    "        \n",
    "        # Draw a uniform random number for acceptance test\n",
    "        u = np.random.uniform(0, 1)\n",
    "        \n",
    "        if u < acceptance_prob:\n",
    "            current_z = proposal  # Accept proposal\n",
    "        \n",
    "        samples[i] = current_z\n",
    "    \n",
    "    return samples[burn_in:]  # Discard burn-in samples\n"
   ]
  },
  {
   "cell_type": "code",
   "execution_count": 16,
   "id": "4454bab8",
   "metadata": {},
   "outputs": [],
   "source": [
    "def normal_proposal(z, x, params):\n",
    "    \"\"\"\n",
    "    Generate a proposal sample using a Normal distribution centered at z.\n",
    "    \n",
    "    Args:\n",
    "    - z: Current state.\n",
    "    - params: parameters\n",
    "        - sigma: Standard deviation of the proposal distribution.\n",
    "    \n",
    "    Returns:\n",
    "    - Proposal sample.\n",
    "    \"\"\"\n",
    "    sigma = params['sigma']\n",
    "    return np.random.normal(z, sigma)\n",
    "\n",
    "def normal_proposal_pdf(z, z_prime, x, params):\n",
    "    \"\"\"    \n",
    "    Args:\n",
    "    - z: Current state (not used in calculation for symmetric proposals).\n",
    "    - z_prime: Proposed state (not used in calculation for symmetric proposals).\n",
    "    - params: parameters\n",
    "        - sigma: Standard deviation of the proposal distribution (not used for symmetric proposals).\n",
    "    \n",
    "    Returns:\n",
    "    - Probability density (constant for symmetric proposals).\n",
    "    \"\"\"\n",
    "    return 1.0  # Symmetric proposal, cancels out in acceptance ratio\n"
   ]
  },
  {
   "cell_type": "markdown",
   "id": "334b1bfd",
   "metadata": {},
   "source": [
    "#### MCEM with MCMC\n",
    "\n",
    "The following implements the MCEM algorithm using MCMC for sampling and gradient descent for the parameter updates. The setup is similar to the importance sampling variant."
   ]
  },
  {
   "cell_type": "code",
   "execution_count": 17,
   "id": "dee772fd",
   "metadata": {},
   "outputs": [],
   "source": [
    "def mcem_mcmc_gd(x_n, initial_params, sigma2, s2, v2, \n",
    "                 target_density, proposal_func, proposal_pdf, proposal_params,\n",
    "                 n_samples=10000, burn_in=1000, learning_rate=0.01, \n",
    "                 n_gd_steps=10, n_iter=100):\n",
    "    \"\"\"\n",
    "    MCEM algorithm using generalized Metropolis-Hastings for sampling and gradient descent for parameter updates.\n",
    "    \n",
    "    Args:\n",
    "    - x_n: Observed data.\n",
    "    - initial_params: Initial parameter estimates for mu, alpha, and beta.\n",
    "    - sigma2, s2: Known variances.\n",
    "    - v2: Variance of the proposal distribution for MCMC.\n",
    "    - target_density: Target density function for MCMC.\n",
    "    - proposal_func: Proposal function for MCMC.\n",
    "    - proposal_pdf: Proposal PDF function for MCMC.\n",
    "    - n_samples: Total number of MCMC samples to draw, including burn-in.\n",
    "    - burn_in: Number of initial samples to discard (burn-in period).\n",
    "    - learning_rate: Learning rate for gradient descent updates.\n",
    "    - n_gd_steps: Number of gradient descent steps for parameter updates.\n",
    "    - n_iter: Number of iterations for the EM algorithm.\n",
    "    \n",
    "    Returns:\n",
    "    - Updated parameter estimates.\n",
    "    \"\"\"\n",
    "    mu, alpha, beta = initial_params['mu'], initial_params['alpha'], initial_params['beta']\n",
    "    \n",
    "    for it in tqdm(range(n_iter), desc=\"MCEM Iterations\"):\n",
    "\n",
    "        if proposal_params[\"name\"] == \"langevin\":\n",
    "            proposal_params[\"gradient_logp\"] = lambda z, x: gradient_logp(z, x, mu, alpha, beta, sigma2_true, s2_true)\n",
    "        \n",
    "        # E-Step: Draw samples for each observed data point using Metropolis-Hastings\n",
    "        z_samples_all = []\n",
    "        for x in x_n:\n",
    "            samples = metropolis_hastings(lambda z, x: target_density(z, x, mu, alpha, beta, sigma2, s2),\n",
    "                                          lambda z, x: proposal_func(z, x, proposal_params),\n",
    "                                          lambda z, z_prime, x: proposal_pdf(z, z_prime, x, proposal_params),\n",
    "                                          mu, x, n_samples, burn_in)\n",
    "            z_samples_all.extend(samples)\n",
    "        \n",
    "        z_samples_all = np.array(z_samples_all)\n",
    "        \n",
    "        # M-Step: Update parameters using gradient descent\n",
    "        n_post_burn_in_samples = n_samples - burn_in\n",
    "        x_n_replicated = np.repeat(x_n, n_post_burn_in_samples)\n",
    "        \n",
    "        for gd_step in range(n_gd_steps):\n",
    "            grad_mu = np.mean(z_samples_all) - mu\n",
    "            grad_alpha = np.mean((x_n_replicated - (alpha * np.sin(z_samples_all) + beta)) * np.sin(z_samples_all))\n",
    "            grad_beta = np.mean(x_n_replicated - (alpha * np.sin(z_samples_all) + beta))\n",
    "            \n",
    "            # Update parameters\n",
    "            mu += learning_rate * grad_mu\n",
    "            alpha += learning_rate * grad_alpha\n",
    "            beta += learning_rate * grad_beta\n",
    "    \n",
    "    return {'mu': mu, 'alpha': alpha, 'beta': beta}\n"
   ]
  },
  {
   "cell_type": "code",
   "execution_count": 18,
   "id": "31532039",
   "metadata": {},
   "outputs": [
    {
     "name": "stdout",
     "output_type": "stream",
     "text": [
      "True parameters:  {'mu': 0.0, 'alpha': 3, 'beta': 1}\n"
     ]
    },
    {
     "data": {
      "application/vnd.jupyter.widget-view+json": {
       "model_id": "094067b70ff2449aa47cfef23e09fb93",
       "version_major": 2,
       "version_minor": 0
      },
      "text/plain": [
       "MCEM Iterations:   0%|          | 0/100 [00:00<?, ?it/s]"
      ]
     },
     "metadata": {},
     "output_type": "display_data"
    },
    {
     "name": "stdout",
     "output_type": "stream",
     "text": [
      "Estimated Parameters: {'mu': -0.15326771101901404, 'alpha': 2.903216308272276, 'beta': 1.1250602718722433}\n"
     ]
    }
   ],
   "source": [
    "print(\"True parameters: \", true_params)\n",
    "\n",
    "# Initial parameters for estimation\n",
    "initial_params = {'mu': 0.1, 'alpha': 0.1, 'beta': 0.1}\n",
    "\n",
    "# Proposal distribution variance and MCMC setup\n",
    "v2 = 0.5\n",
    "max_iter = 100  # Number of iterations for the MCEM algorithm\n",
    "N_samples = 100  # Number of MCMC samples to draw per observation, including burn-in\n",
    "burn_in = int(0.1 * N_samples)  # Burn-in period (10% of N_samples)\n",
    "\n",
    "learning_rate = 0.05 # learning rate for gradient descent\n",
    "n_gd_steps = 10 # number of gradient descent steps\n",
    "\n",
    "proposal_params = {\n",
    "    \"name\": \"normal\",\n",
    "    \"sigma\": np.sqrt(v2)}\n",
    "\n",
    "# Running the MCEM algorithm with MCMC\n",
    "estimated_params = mcem_mcmc_gd(x_n, initial_params, sigma2_true, s2_true, v2, \n",
    "                                target_density, normal_proposal, normal_proposal_pdf, proposal_params,\n",
    "                                n_samples=N_samples, burn_in=burn_in, \n",
    "                                learning_rate=learning_rate, n_gd_steps=n_gd_steps,\n",
    "                                n_iter=max_iter)\n",
    "\n",
    "print(\"Estimated Parameters:\", estimated_params)\n"
   ]
  },
  {
   "cell_type": "code",
   "execution_count": 19,
   "id": "eee68502",
   "metadata": {},
   "outputs": [
    {
     "data": {
      "image/png": "[encoded data removed]",
      "text/plain": [
       "<Figure size 1000x600 with 1 Axes>"
      ]
     },
     "metadata": {},
     "output_type": "display_data"
    },
    {
     "name": "stdout",
     "output_type": "stream",
     "text": [
      "Avg NLL of generated data(under true model):  21.61140966023055\n"
     ]
    }
   ],
   "source": [
    "plot_result(true_params, estimated_params, N=50)\n",
    "get_score(true_params, estimated_params)"
   ]
  },
  {
   "cell_type": "markdown",
   "id": "bc78f1cd",
   "metadata": {},
   "source": [
    "Again, with good algorithm parameters, you should find that the learned parameters are reasonably close to the true ones. The data generated should look similar to the true model. \n",
    "\n",
    "Now you have a second sampling method you can apply towards solving more complex models. You can stop here if you want or if you are feeling a bit more adventuous, you can see a third sampling approach below. \n"
   ]
  },
  {
   "cell_type": "markdown",
   "id": "3f243d23",
   "metadata": {},
   "source": [
    "### Metropolis-Adjusted Langevin Algorithm (MALA)\n",
    "\n",
    "The MALA algorithm uses the gradient of the target density to drive the random walk towards region of high probability. This can improve the mixing times associated with MCMC methods. The proposal for MALA is given by\n",
    "\n",
    "$$z_{t+1} = z_t + \\tau \\nabla \\log p(z, x) + \\sqrt{2\\tau}\\epsilon$$ \n",
    "where $\\epsilon \\sim N(0,1)$. \n"
   ]
  },
  {
   "cell_type": "code",
   "execution_count": 20,
   "id": "6fb55a8f",
   "metadata": {},
   "outputs": [],
   "source": [
    "# Define gradient_logp function for your model\n",
    "def gradient_logp(z, x, mu, alpha, beta, sigma2, s2):\n",
    "    \"\"\"\n",
    "    Compute the gradient of the log posterior (target density) with respect to z.\n",
    "    \"\"\"\n",
    "    grad = (alpha / sigma2) * (x - alpha * np.sin(z) - beta) * np.cos(z) - (1 / s2) * (z - mu)\n",
    "    return grad\n",
    "\n",
    "\n",
    "def langevin_proposal(current_z, x, params):\n",
    "    \"\"\"\n",
    "    Generate a proposal using Langevin dynamics with a specified step size and gradient function.\n",
    "    \n",
    "    Args:\n",
    "    - current_z: Current state.\n",
    "    - params: parameters\n",
    "        - gradient_logp: Function to compute the gradient of the log target density.\n",
    "        - step_size: Step size parameter for the proposal.\n",
    "    \n",
    "    Returns:\n",
    "    - Proposal sample.\n",
    "    \"\"\"\n",
    "    \n",
    "    gradient_logp = params[\"gradient_logp\"] \n",
    "    step_size = params[\"step_size\"]\n",
    "    \n",
    "    noise = np.random.normal(0, 1)\n",
    "    proposal = current_z + step_size * gradient_logp(current_z, x) + np.sqrt(2*step_size)*noise\n",
    "    return proposal\n",
    "\n",
    "def langevin_proposal_pdf(z, z_prime, x, params):\n",
    "    \"\"\"\n",
    "    Compute the probability density of proposing x_prime given x under Langevin dynamics.\n",
    "    For this simple implementation, we can assume it to be symmetric.\n",
    "    \n",
    "    Args:\n",
    "    - z: Current state.\n",
    "    - z_prime: Proposed state.\n",
    "    - params: parameters\n",
    "    \n",
    "    Returns:\n",
    "    - Probability density.\n",
    "    \"\"\"\n",
    "    \n",
    "    gradient_logp = params[\"gradient_logp\"] \n",
    "    step_size = params[\"step_size\"]\n",
    "    \n",
    "    return np.exp(- (1/(4*step_size))*( z_prime - z - step_size*gradient_logp(z, x))**2 ) \n",
    "\n",
    "    "
   ]
  },
  {
   "cell_type": "markdown",
   "id": "605f9444",
   "metadata": {},
   "source": [
    "Let's run MALA by just using the langevin proposal and pdf defined above. We can reuse the MCEM_MCMC function above!"
   ]
  },
  {
   "cell_type": "code",
   "execution_count": 21,
   "id": "c2e72358",
   "metadata": {},
   "outputs": [
    {
     "name": "stdout",
     "output_type": "stream",
     "text": [
      "True parameters:  {'mu': 0.0, 'alpha': 3, 'beta': 1}\n"
     ]
    },
    {
     "data": {
      "application/vnd.jupyter.widget-view+json": {
       "model_id": "4a69f456f87a4b02b77f05e502b8d7b8",
       "version_major": 2,
       "version_minor": 0
      },
      "text/plain": [
       "MCEM Iterations:   0%|          | 0/200 [00:00<?, ?it/s]"
      ]
     },
     "metadata": {},
     "output_type": "display_data"
    },
    {
     "name": "stdout",
     "output_type": "stream",
     "text": [
      "Estimated Parameters: {'mu': -0.08022519490372672, 'alpha': 2.9897554369213677, 'beta': 1.089513694530203}\n"
     ]
    }
   ],
   "source": [
    "print(\"True parameters: \", true_params)\n",
    "\n",
    "# Initial parameters for estimation\n",
    "initial_params = {'mu': 0.1, 'alpha': 0.1, 'beta': 0.1}\n",
    "\n",
    "# Proposal distribution variance and MCMC setup\n",
    "v2 = 0.5\n",
    "step_size = 0.01\n",
    "max_iter = 200  # Number of iterations for the MCEM algorithm\n",
    "N_samples = 50  # Number of samples to draw per observation, including burn-in\n",
    "burn_in = int(0.1 * N_samples)  # Burn-in period (10% of N_samples)\n",
    "\n",
    "lanvegin_params = {\n",
    "    'name': 'langevin',\n",
    "    \"step_size\": step_size,\n",
    "}\n",
    "\n",
    "# Running the MCEM algorithm with Langevin Dynamics\n",
    "estimated_params = mcem_mcmc_gd(x_n, initial_params, sigma2_true, s2_true, v2, \n",
    "                                target_density, langevin_proposal, langevin_proposal_pdf, lanvegin_params,\n",
    "                                n_samples=N_samples, burn_in=burn_in, \n",
    "                                learning_rate=0.01, n_gd_steps=10,\n",
    "                                n_iter=max_iter)\n",
    "\n",
    "print(\"Estimated Parameters:\", estimated_params)\n"
   ]
  },
  {
   "cell_type": "code",
   "execution_count": 22,
   "id": "aabdf7a0",
   "metadata": {},
   "outputs": [
    {
     "data": {
      "image/png": "[encoded data removed]",
      "text/plain": [
       "<Figure size 1000x600 with 1 Axes>"
      ]
     },
     "metadata": {},
     "output_type": "display_data"
    },
    {
     "name": "stdout",
     "output_type": "stream",
     "text": [
      "Avg NLL of generated data(under true model):  20.865390074442665\n"
     ]
    }
   ],
   "source": [
    "plot_result(true_params, estimated_params)\n",
    "get_score(true_params, estimated_params)"
   ]
  },
  {
   "cell_type": "markdown",
   "id": "89672395",
   "metadata": {},
   "source": [
    "Again, with good algorithm parameters, you should find that the learned parameters are reasonably close to the true ones (perhaps even better than the Metropolis and IS methods). "
   ]
  },
  {
   "cell_type": "code",
   "execution_count": null,
   "id": "91015f17",
   "metadata": {},
   "outputs": [],
   "source": []
  }
 ],
 "metadata": {
  "kernelspec": {
   "display_name": "Python 3 (ipykernel)",
   "language": "python",
   "name": "python3"
  },
  "language_info": {
   "codemirror_mode": {
    "name": "ipython",
    "version": 3
   },
   "file_extension": ".py",
   "mimetype": "text/x-python",
   "name": "python",
   "nbconvert_exporter": "python",
   "pygments_lexer": "ipython3",
   "version": "3.11.5"
  }
 },
 "nbformat": 4,
 "nbformat_minor": 5
}
